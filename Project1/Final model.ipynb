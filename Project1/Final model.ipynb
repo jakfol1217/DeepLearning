{
 "cells": [
  {
   "cell_type": "code",
   "execution_count": 68,
   "id": "da833f27",
   "metadata": {},
   "outputs": [
    {
     "data": {
      "text/html": [
       "<div>\n",
       "<style scoped>\n",
       "    .dataframe tbody tr th:only-of-type {\n",
       "        vertical-align: middle;\n",
       "    }\n",
       "\n",
       "    .dataframe tbody tr th {\n",
       "        vertical-align: top;\n",
       "    }\n",
       "\n",
       "    .dataframe thead th {\n",
       "        text-align: right;\n",
       "    }\n",
       "</style>\n",
       "<table border=\"1\" class=\"dataframe\">\n",
       "  <thead>\n",
       "    <tr style=\"text-align: right;\">\n",
       "      <th></th>\n",
       "      <th>name</th>\n",
       "      <th>run</th>\n",
       "      <th>augment</th>\n",
       "      <th>train</th>\n",
       "      <th>best_accuracy_validation</th>\n",
       "      <th>time_generated</th>\n",
       "      <th>trajectory</th>\n",
       "      <th>filename</th>\n",
       "    </tr>\n",
       "  </thead>\n",
       "  <tbody>\n",
       "    <tr>\n",
       "      <th>0</th>\n",
       "      <td>vgg16</td>\n",
       "      <td>9</td>\n",
       "      <td>flip</td>\n",
       "      <td>morepatient</td>\n",
       "      <td>0.8784</td>\n",
       "      <td>2023-03-22T04:07:14.040963</td>\n",
       "      <td>[{'epoch': 0, 'train': 0.24384444444444445, 'v...</td>\n",
       "      <td>train_morepatient_aug_flip_arch_vgg16_9_report...</td>\n",
       "    </tr>\n",
       "    <tr>\n",
       "      <th>1</th>\n",
       "      <td>vgg16</td>\n",
       "      <td>4</td>\n",
       "      <td>fliprotate</td>\n",
       "      <td>fasterlearn</td>\n",
       "      <td>0.8692</td>\n",
       "      <td>2023-03-21T07:45:54.197327</td>\n",
       "      <td>[{'epoch': 0, 'train': 0.18386666666666668, 'v...</td>\n",
       "      <td>train_fasterlearn_aug_fliprotate_arch_vgg16_4_...</td>\n",
       "    </tr>\n",
       "    <tr>\n",
       "      <th>2</th>\n",
       "      <td>vgg16</td>\n",
       "      <td>1</td>\n",
       "      <td>fliprotate</td>\n",
       "      <td>fasterlearn</td>\n",
       "      <td>0.8612</td>\n",
       "      <td>2023-03-20T18:25:35.112154</td>\n",
       "      <td>[{'epoch': 0, 'train': 0.18764444444444445, 'v...</td>\n",
       "      <td>train_fasterlearn_aug_fliprotate_arch_vgg16_1_...</td>\n",
       "    </tr>\n",
       "    <tr>\n",
       "      <th>3</th>\n",
       "      <td>vgg11</td>\n",
       "      <td>9</td>\n",
       "      <td>fullrotate</td>\n",
       "      <td>standard</td>\n",
       "      <td>0.7318</td>\n",
       "      <td>2023-03-20T11:56:47.360322</td>\n",
       "      <td>[{'epoch': 0, 'train': 0.2404888888888889, 'va...</td>\n",
       "      <td>aug_fullrotate_arch_vgg11_9_report.json</td>\n",
       "    </tr>\n",
       "    <tr>\n",
       "      <th>4</th>\n",
       "      <td>vgg13</td>\n",
       "      <td>1</td>\n",
       "      <td>flip</td>\n",
       "      <td>fasterlearn</td>\n",
       "      <td>0.8502</td>\n",
       "      <td>2023-03-20T14:47:48.123306</td>\n",
       "      <td>[{'epoch': 0, 'train': 0.20193333333333333, 'v...</td>\n",
       "      <td>train_fasterlearn_aug_flip_arch_vgg13_1_report...</td>\n",
       "    </tr>\n",
       "    <tr>\n",
       "      <th>...</th>\n",
       "      <td>...</td>\n",
       "      <td>...</td>\n",
       "      <td>...</td>\n",
       "      <td>...</td>\n",
       "      <td>...</td>\n",
       "      <td>...</td>\n",
       "      <td>...</td>\n",
       "      <td>...</td>\n",
       "    </tr>\n",
       "    <tr>\n",
       "      <th>393</th>\n",
       "      <td>vgg16</td>\n",
       "      <td>4</td>\n",
       "      <td>smallrotate</td>\n",
       "      <td>morepatient</td>\n",
       "      <td>0.8548</td>\n",
       "      <td>2023-03-21T07:24:11.862303</td>\n",
       "      <td>[{'epoch': 0, 'train': 0.3194222222222222, 'va...</td>\n",
       "      <td>train_morepatient_aug_smallrotate_arch_vgg16_4...</td>\n",
       "    </tr>\n",
       "    <tr>\n",
       "      <th>394</th>\n",
       "      <td>vgg16</td>\n",
       "      <td>2</td>\n",
       "      <td>flip</td>\n",
       "      <td>morepatient</td>\n",
       "      <td>0.8832</td>\n",
       "      <td>2023-03-20T21:46:10.591042</td>\n",
       "      <td>[{'epoch': 0, 'train': 0.2712888888888889, 'va...</td>\n",
       "      <td>train_morepatient_aug_flip_arch_vgg16_2_report...</td>\n",
       "    </tr>\n",
       "    <tr>\n",
       "      <th>395</th>\n",
       "      <td>vgg13</td>\n",
       "      <td>3</td>\n",
       "      <td>fliprotate</td>\n",
       "      <td>fasterlearn</td>\n",
       "      <td>0.8746</td>\n",
       "      <td>2023-03-21T01:19:08.893461</td>\n",
       "      <td>[{'epoch': 0, 'train': 0.12946666666666667, 'v...</td>\n",
       "      <td>train_fasterlearn_aug_fliprotate_arch_vgg13_3_...</td>\n",
       "    </tr>\n",
       "    <tr>\n",
       "      <th>396</th>\n",
       "      <td>vgg16</td>\n",
       "      <td>4</td>\n",
       "      <td>none</td>\n",
       "      <td>standard</td>\n",
       "      <td>0.8580</td>\n",
       "      <td>2023-03-25T11:38:53.419933</td>\n",
       "      <td>[{'epoch': 0, 'train': 0.2759333333333333, 'va...</td>\n",
       "      <td>aug_cutout_archvgg16_4_report.json</td>\n",
       "    </tr>\n",
       "    <tr>\n",
       "      <th>397</th>\n",
       "      <td>vgg13</td>\n",
       "      <td>4</td>\n",
       "      <td>flip</td>\n",
       "      <td>fasterlearn</td>\n",
       "      <td>0.8294</td>\n",
       "      <td>2023-03-21T04:27:40.071439</td>\n",
       "      <td>[{'epoch': 0, 'train': 0.1847111111111111, 'va...</td>\n",
       "      <td>train_fasterlearn_aug_flip_arch_vgg13_4_report...</td>\n",
       "    </tr>\n",
       "  </tbody>\n",
       "</table>\n",
       "<p>398 rows × 8 columns</p>\n",
       "</div>"
      ],
      "text/plain": [
       "      name run      augment        train  best_accuracy_validation  \\\n",
       "0    vgg16   9         flip  morepatient                    0.8784   \n",
       "1    vgg16   4   fliprotate  fasterlearn                    0.8692   \n",
       "2    vgg16   1   fliprotate  fasterlearn                    0.8612   \n",
       "3    vgg11   9   fullrotate     standard                    0.7318   \n",
       "4    vgg13   1         flip  fasterlearn                    0.8502   \n",
       "..     ...  ..          ...          ...                       ...   \n",
       "393  vgg16   4  smallrotate  morepatient                    0.8548   \n",
       "394  vgg16   2         flip  morepatient                    0.8832   \n",
       "395  vgg13   3   fliprotate  fasterlearn                    0.8746   \n",
       "396  vgg16   4         none     standard                    0.8580   \n",
       "397  vgg13   4         flip  fasterlearn                    0.8294   \n",
       "\n",
       "                 time_generated  \\\n",
       "0    2023-03-22T04:07:14.040963   \n",
       "1    2023-03-21T07:45:54.197327   \n",
       "2    2023-03-20T18:25:35.112154   \n",
       "3    2023-03-20T11:56:47.360322   \n",
       "4    2023-03-20T14:47:48.123306   \n",
       "..                          ...   \n",
       "393  2023-03-21T07:24:11.862303   \n",
       "394  2023-03-20T21:46:10.591042   \n",
       "395  2023-03-21T01:19:08.893461   \n",
       "396  2023-03-25T11:38:53.419933   \n",
       "397  2023-03-21T04:27:40.071439   \n",
       "\n",
       "                                            trajectory  \\\n",
       "0    [{'epoch': 0, 'train': 0.24384444444444445, 'v...   \n",
       "1    [{'epoch': 0, 'train': 0.18386666666666668, 'v...   \n",
       "2    [{'epoch': 0, 'train': 0.18764444444444445, 'v...   \n",
       "3    [{'epoch': 0, 'train': 0.2404888888888889, 'va...   \n",
       "4    [{'epoch': 0, 'train': 0.20193333333333333, 'v...   \n",
       "..                                                 ...   \n",
       "393  [{'epoch': 0, 'train': 0.3194222222222222, 'va...   \n",
       "394  [{'epoch': 0, 'train': 0.2712888888888889, 'va...   \n",
       "395  [{'epoch': 0, 'train': 0.12946666666666667, 'v...   \n",
       "396  [{'epoch': 0, 'train': 0.2759333333333333, 'va...   \n",
       "397  [{'epoch': 0, 'train': 0.1847111111111111, 'va...   \n",
       "\n",
       "                                              filename  \n",
       "0    train_morepatient_aug_flip_arch_vgg16_9_report...  \n",
       "1    train_fasterlearn_aug_fliprotate_arch_vgg16_4_...  \n",
       "2    train_fasterlearn_aug_fliprotate_arch_vgg16_1_...  \n",
       "3              aug_fullrotate_arch_vgg11_9_report.json  \n",
       "4    train_fasterlearn_aug_flip_arch_vgg13_1_report...  \n",
       "..                                                 ...  \n",
       "393  train_morepatient_aug_smallrotate_arch_vgg16_4...  \n",
       "394  train_morepatient_aug_flip_arch_vgg16_2_report...  \n",
       "395  train_fasterlearn_aug_fliprotate_arch_vgg13_3_...  \n",
       "396                 aug_cutout_archvgg16_4_report.json  \n",
       "397  train_fasterlearn_aug_flip_arch_vgg13_4_report...  \n",
       "\n",
       "[398 rows x 8 columns]"
      ]
     },
     "execution_count": 68,
     "metadata": {},
     "output_type": "execute_result"
    }
   ],
   "source": [
    "import os\n",
    "import json\n",
    "import seaborn as sns\n",
    "\n",
    "path=\"experiments\"\n",
    "results = []\n",
    "for el in os.listdir(path):\n",
    "    if el.endswith(\"json\"):\n",
    "        with open(path+\"/\"+el) as f:\n",
    "            report = json.load(f)\n",
    "            report[\"filename\"] = el\n",
    "            if \"augment\" not in report:\n",
    "                report[\"augment\"] = \"none\"\n",
    "            if \"train\" not in report:\n",
    "                report[\"train\"] = \"standard\"\n",
    "            results.append(report)\n",
    "\n",
    "import pandas as pd\n",
    "res_df = pd.DataFrame.from_dict(results)\n",
    "res_df"
   ]
  },
  {
   "cell_type": "code",
   "execution_count": 69,
   "id": "d93a87c2",
   "metadata": {},
   "outputs": [
    {
     "data": {
      "text/html": [
       "<div>\n",
       "<style scoped>\n",
       "    .dataframe tbody tr th:only-of-type {\n",
       "        vertical-align: middle;\n",
       "    }\n",
       "\n",
       "    .dataframe tbody tr th {\n",
       "        vertical-align: top;\n",
       "    }\n",
       "\n",
       "    .dataframe thead th {\n",
       "        text-align: right;\n",
       "    }\n",
       "</style>\n",
       "<table border=\"1\" class=\"dataframe\">\n",
       "  <thead>\n",
       "    <tr style=\"text-align: right;\">\n",
       "      <th></th>\n",
       "      <th>name</th>\n",
       "      <th>run</th>\n",
       "      <th>augment</th>\n",
       "      <th>train</th>\n",
       "      <th>best_accuracy_validation</th>\n",
       "      <th>time_generated</th>\n",
       "      <th>trajectory</th>\n",
       "      <th>filename</th>\n",
       "    </tr>\n",
       "  </thead>\n",
       "  <tbody>\n",
       "    <tr>\n",
       "      <th>34</th>\n",
       "      <td>vgg13</td>\n",
       "      <td>2</td>\n",
       "      <td>fliprotate</td>\n",
       "      <td>morepatient</td>\n",
       "      <td>0.8936</td>\n",
       "      <td>2023-03-20T21:04:57.084226</td>\n",
       "      <td>[{'epoch': 0, 'train': 0.3589333333333333, 'va...</td>\n",
       "      <td>train_morepatient_aug_fliprotate_arch_vgg13_2_...</td>\n",
       "    </tr>\n",
       "    <tr>\n",
       "      <th>306</th>\n",
       "      <td>vgg13</td>\n",
       "      <td>9</td>\n",
       "      <td>fliprotate</td>\n",
       "      <td>morepatient</td>\n",
       "      <td>0.8936</td>\n",
       "      <td>2023-03-22T03:29:41.870309</td>\n",
       "      <td>[{'epoch': 0, 'train': 0.34302222222222223, 'v...</td>\n",
       "      <td>train_morepatient_aug_fliprotate_arch_vgg13_9_...</td>\n",
       "    </tr>\n",
       "    <tr>\n",
       "      <th>296</th>\n",
       "      <td>vgg13</td>\n",
       "      <td>7</td>\n",
       "      <td>fliprotate</td>\n",
       "      <td>morepatient</td>\n",
       "      <td>0.8926</td>\n",
       "      <td>2023-03-21T18:51:02.923571</td>\n",
       "      <td>[{'epoch': 0, 'train': 0.31766666666666665, 'v...</td>\n",
       "      <td>train_morepatient_aug_fliprotate_arch_vgg13_7_...</td>\n",
       "    </tr>\n",
       "    <tr>\n",
       "      <th>350</th>\n",
       "      <td>vgg16</td>\n",
       "      <td>6</td>\n",
       "      <td>flip</td>\n",
       "      <td>morepatient</td>\n",
       "      <td>0.8918</td>\n",
       "      <td>2023-03-21T15:07:27.260303</td>\n",
       "      <td>[{'epoch': 0, 'train': 0.26868888888888887, 'v...</td>\n",
       "      <td>train_morepatient_aug_flip_arch_vgg16_6_report...</td>\n",
       "    </tr>\n",
       "    <tr>\n",
       "      <th>216</th>\n",
       "      <td>vgg16</td>\n",
       "      <td>1</td>\n",
       "      <td>fliprotate</td>\n",
       "      <td>morepatient</td>\n",
       "      <td>0.8880</td>\n",
       "      <td>2023-03-20T18:59:07.795426</td>\n",
       "      <td>[{'epoch': 0, 'train': 0.2218, 'validation': 0...</td>\n",
       "      <td>train_morepatient_aug_fliprotate_arch_vgg16_1_...</td>\n",
       "    </tr>\n",
       "    <tr>\n",
       "      <th>285</th>\n",
       "      <td>vgg13</td>\n",
       "      <td>3</td>\n",
       "      <td>flip</td>\n",
       "      <td>morepatient</td>\n",
       "      <td>0.8868</td>\n",
       "      <td>2023-03-21T00:00:03.137675</td>\n",
       "      <td>[{'epoch': 0, 'train': 0.244, 'validation': 0....</td>\n",
       "      <td>train_morepatient_aug_flip_arch_vgg13_3_report...</td>\n",
       "    </tr>\n",
       "    <tr>\n",
       "      <th>275</th>\n",
       "      <td>vgg13</td>\n",
       "      <td>1</td>\n",
       "      <td>fliprotate</td>\n",
       "      <td>morepatient</td>\n",
       "      <td>0.8864</td>\n",
       "      <td>2023-03-20T16:45:56.359547</td>\n",
       "      <td>[{'epoch': 0, 'train': 0.3294888888888889, 'va...</td>\n",
       "      <td>train_morepatient_aug_fliprotate_arch_vgg13_1_...</td>\n",
       "    </tr>\n",
       "    <tr>\n",
       "      <th>280</th>\n",
       "      <td>vgg16</td>\n",
       "      <td>6</td>\n",
       "      <td>fliprotate</td>\n",
       "      <td>morepatient</td>\n",
       "      <td>0.8856</td>\n",
       "      <td>2023-03-21T16:49:56.406044</td>\n",
       "      <td>[{'epoch': 0, 'train': 0.2744888888888889, 'va...</td>\n",
       "      <td>train_morepatient_aug_fliprotate_arch_vgg16_6_...</td>\n",
       "    </tr>\n",
       "    <tr>\n",
       "      <th>284</th>\n",
       "      <td>vgg16</td>\n",
       "      <td>8</td>\n",
       "      <td>fliprotate</td>\n",
       "      <td>morepatient</td>\n",
       "      <td>0.8856</td>\n",
       "      <td>2023-03-22T01:33:59.460287</td>\n",
       "      <td>[{'epoch': 0, 'train': 0.2376, 'validation': 0...</td>\n",
       "      <td>train_morepatient_aug_fliprotate_arch_vgg16_8_...</td>\n",
       "    </tr>\n",
       "    <tr>\n",
       "      <th>107</th>\n",
       "      <td>vgg13</td>\n",
       "      <td>4</td>\n",
       "      <td>flip</td>\n",
       "      <td>standard</td>\n",
       "      <td>0.8844</td>\n",
       "      <td>2023-03-19T12:14:52.600581</td>\n",
       "      <td>[{'epoch': 0, 'train': 0.3201111111111111, 'va...</td>\n",
       "      <td>aug_flip_arch_vgg13_4_report.json</td>\n",
       "    </tr>\n",
       "  </tbody>\n",
       "</table>\n",
       "</div>"
      ],
      "text/plain": [
       "      name run     augment        train  best_accuracy_validation  \\\n",
       "34   vgg13   2  fliprotate  morepatient                    0.8936   \n",
       "306  vgg13   9  fliprotate  morepatient                    0.8936   \n",
       "296  vgg13   7  fliprotate  morepatient                    0.8926   \n",
       "350  vgg16   6        flip  morepatient                    0.8918   \n",
       "216  vgg16   1  fliprotate  morepatient                    0.8880   \n",
       "285  vgg13   3        flip  morepatient                    0.8868   \n",
       "275  vgg13   1  fliprotate  morepatient                    0.8864   \n",
       "280  vgg16   6  fliprotate  morepatient                    0.8856   \n",
       "284  vgg16   8  fliprotate  morepatient                    0.8856   \n",
       "107  vgg13   4        flip     standard                    0.8844   \n",
       "\n",
       "                 time_generated  \\\n",
       "34   2023-03-20T21:04:57.084226   \n",
       "306  2023-03-22T03:29:41.870309   \n",
       "296  2023-03-21T18:51:02.923571   \n",
       "350  2023-03-21T15:07:27.260303   \n",
       "216  2023-03-20T18:59:07.795426   \n",
       "285  2023-03-21T00:00:03.137675   \n",
       "275  2023-03-20T16:45:56.359547   \n",
       "280  2023-03-21T16:49:56.406044   \n",
       "284  2023-03-22T01:33:59.460287   \n",
       "107  2023-03-19T12:14:52.600581   \n",
       "\n",
       "                                            trajectory  \\\n",
       "34   [{'epoch': 0, 'train': 0.3589333333333333, 'va...   \n",
       "306  [{'epoch': 0, 'train': 0.34302222222222223, 'v...   \n",
       "296  [{'epoch': 0, 'train': 0.31766666666666665, 'v...   \n",
       "350  [{'epoch': 0, 'train': 0.26868888888888887, 'v...   \n",
       "216  [{'epoch': 0, 'train': 0.2218, 'validation': 0...   \n",
       "285  [{'epoch': 0, 'train': 0.244, 'validation': 0....   \n",
       "275  [{'epoch': 0, 'train': 0.3294888888888889, 'va...   \n",
       "280  [{'epoch': 0, 'train': 0.2744888888888889, 'va...   \n",
       "284  [{'epoch': 0, 'train': 0.2376, 'validation': 0...   \n",
       "107  [{'epoch': 0, 'train': 0.3201111111111111, 'va...   \n",
       "\n",
       "                                              filename  \n",
       "34   train_morepatient_aug_fliprotate_arch_vgg13_2_...  \n",
       "306  train_morepatient_aug_fliprotate_arch_vgg13_9_...  \n",
       "296  train_morepatient_aug_fliprotate_arch_vgg13_7_...  \n",
       "350  train_morepatient_aug_flip_arch_vgg16_6_report...  \n",
       "216  train_morepatient_aug_fliprotate_arch_vgg16_1_...  \n",
       "285  train_morepatient_aug_flip_arch_vgg13_3_report...  \n",
       "275  train_morepatient_aug_fliprotate_arch_vgg13_1_...  \n",
       "280  train_morepatient_aug_fliprotate_arch_vgg16_6_...  \n",
       "284  train_morepatient_aug_fliprotate_arch_vgg16_8_...  \n",
       "107                  aug_flip_arch_vgg13_4_report.json  "
      ]
     },
     "execution_count": 69,
     "metadata": {},
     "output_type": "execute_result"
    }
   ],
   "source": [
    "top10_models = res_df.sort_values(\"best_accuracy_validation\", ascending=False).head(10)\n",
    "top10_models"
   ]
  },
  {
   "cell_type": "code",
   "execution_count": 70,
   "id": "1842e92c",
   "metadata": {},
   "outputs": [
    {
     "data": {
      "text/plain": [
       "34     train_morepatient_aug_fliprotate_arch_vgg13_2_...\n",
       "306    train_morepatient_aug_fliprotate_arch_vgg13_9_...\n",
       "296    train_morepatient_aug_fliprotate_arch_vgg13_7_...\n",
       "350     train_morepatient_aug_flip_arch_vgg16_6_model.pt\n",
       "216    train_morepatient_aug_fliprotate_arch_vgg16_1_...\n",
       "285     train_morepatient_aug_flip_arch_vgg13_3_model.pt\n",
       "275    train_morepatient_aug_fliprotate_arch_vgg13_1_...\n",
       "280    train_morepatient_aug_fliprotate_arch_vgg16_6_...\n",
       "284    train_morepatient_aug_fliprotate_arch_vgg16_8_...\n",
       "107                       aug_flip_arch_vgg13_4_model.pt\n",
       "Name: model_filename, dtype: object"
      ]
     },
     "execution_count": 70,
     "metadata": {},
     "output_type": "execute_result"
    }
   ],
   "source": [
    "top10_models[\"model_filename\"] = top10_models[\"filename\"].apply(lambda x: x.replace(\"report.json\", \"model.pt\"))\n",
    "top10_models[\"model_filename\"]"
   ]
  },
  {
   "cell_type": "code",
   "execution_count": 71,
   "id": "937cbc9f",
   "metadata": {},
   "outputs": [],
   "source": [
    "from torch import nn\n",
    "from DeepLearning.Project1.data import *\n",
    "import torch\n",
    "\n",
    "class VGG(nn.Module):\n",
    "    def forward(self, x):\n",
    "        x = self.features(x)\n",
    "        x = self.avgpool(x)\n",
    "        x = torch.flatten(x, 1)\n",
    "        x = self.classifier(x)\n",
    "        return x"
   ]
  },
  {
   "cell_type": "code",
   "execution_count": 2,
   "id": "bbc0a341",
   "metadata": {},
   "outputs": [],
   "source": [
    "model = torch.load(\"experiments/train_morepatient_aug_flip_arch_vgg16_6_model.pt\")\n",
    "model = model.to(\"cuda\")\n",
    "model = model.eval()"
   ]
  },
  {
   "cell_type": "code",
   "execution_count": 4,
   "id": "0cb6e080",
   "metadata": {},
   "outputs": [],
   "source": [
    "train, val = load_cifar10_train_dataloaders_validation_kaggle(bs=128)"
   ]
  },
  {
   "cell_type": "code",
   "execution_count": 5,
   "id": "81c6d910",
   "metadata": {},
   "outputs": [],
   "source": [
    "def eval_accuracy(model, dataloader, training_device=\"cuda\"):\n",
    "    model.eval()\n",
    "    with torch.no_grad():\n",
    "        model.to(training_device)\n",
    "        correct = 0\n",
    "        all_so_far = 0\n",
    "        for inputs, labels in dataloader:\n",
    "            inputs, labels = inputs.to(training_device), labels.to(training_device)\n",
    "            pred = torch.argmax(model(inputs), dim=1)\n",
    "\n",
    "            all_so_far += labels.size().numel()\n",
    "            correct += torch.sum(pred.eq(labels)).item()\n",
    "    model.train()\n",
    "    return correct/all_so_far"
   ]
  },
  {
   "cell_type": "code",
   "execution_count": 6,
   "id": "597e25ee",
   "metadata": {},
   "outputs": [
    {
     "data": {
      "text/plain": [
       "0.9733555555555555"
      ]
     },
     "execution_count": 6,
     "metadata": {},
     "output_type": "execute_result"
    }
   ],
   "source": [
    "eval_accuracy(model, train, training_device=\"cuda\")"
   ]
  },
  {
   "cell_type": "code",
   "execution_count": 16,
   "id": "d813774b",
   "metadata": {},
   "outputs": [],
   "source": [
    "rev_name_dictionary = {\n",
    "    v: k\n",
    "    for k, v in name_dict.items()\n",
    "}"
   ]
  },
  {
   "cell_type": "code",
   "execution_count": 10,
   "id": "27403955",
   "metadata": {
    "scrolled": true
   },
   "outputs": [
    {
     "data": {
      "text/plain": [
       "{0: 'airplane',\n",
       " 1: 'automobile',\n",
       " 2: 'bird',\n",
       " 3: 'cat',\n",
       " 4: 'deer',\n",
       " 5: 'dog',\n",
       " 6: 'frog',\n",
       " 7: 'horse',\n",
       " 8: 'ship',\n",
       " 9: 'truck'}"
      ]
     },
     "execution_count": 10,
     "metadata": {},
     "output_type": "execute_result"
    }
   ],
   "source": [
    "rev_name_dictionary"
   ]
  },
  {
   "cell_type": "code",
   "execution_count": 44,
   "id": "3f3a1690",
   "metadata": {},
   "outputs": [],
   "source": [
    "def eval_on_data(model, dataloader, device=\"cuda\"):\n",
    "    results = []\n",
    "    model.eval()\n",
    "    with torch.no_grad():\n",
    "        model.to(device)\n",
    "        for inputs in dataloader:\n",
    "            inputs = inputs.to(device)\n",
    "            pred = torch.argmax(model(inputs), dim=1)\n",
    "            for p in pred.cpu().numpy():\n",
    "                results.append(p)\n",
    "            \n",
    "    model.train()\n",
    "    return results"
   ]
  },
  {
   "cell_type": "code",
   "execution_count": 49,
   "id": "c381e9bd",
   "metadata": {},
   "outputs": [],
   "source": [
    "test = load_cifar10_test_dataloader_kaggle(bs=1000)"
   ]
  },
  {
   "cell_type": "code",
   "execution_count": 50,
   "id": "92baf844",
   "metadata": {},
   "outputs": [],
   "source": [
    "results = eval_on_data(model, test)"
   ]
  },
  {
   "cell_type": "code",
   "execution_count": 58,
   "id": "2dda234a",
   "metadata": {},
   "outputs": [],
   "source": [
    "import pandas as pd\n",
    "df = pd.DataFrame()"
   ]
  },
  {
   "cell_type": "code",
   "execution_count": 59,
   "id": "1226b90b",
   "metadata": {},
   "outputs": [],
   "source": [
    "df[\"id\"] = [i for i in range(1, 300_001)]"
   ]
  },
  {
   "cell_type": "code",
   "execution_count": 60,
   "id": "07d65853",
   "metadata": {},
   "outputs": [],
   "source": [
    "df[\"label\"] = [rev_name_dictionary[result] for result in results]"
   ]
  },
  {
   "cell_type": "code",
   "execution_count": 95,
   "id": "13ada2a1",
   "metadata": {},
   "outputs": [],
   "source": [
    "df.to_csv(\"submission.csv\", index=False)"
   ]
  },
  {
   "cell_type": "code",
   "execution_count": 65,
   "id": "0dd22499",
   "metadata": {},
   "outputs": [],
   "source": [
    "def load_and_eval_model(model_name, dataloader, device=\"cuda\"):\n",
    "    model = torch.load(\"experiments/\" + model_name)\n",
    "    model = model.to(device)\n",
    "    model = model.eval()\n",
    "    return eval_on_data(model, dataloader)"
   ]
  },
  {
   "cell_type": "code",
   "execution_count": 66,
   "id": "2d81bcf4",
   "metadata": {},
   "outputs": [],
   "source": [
    "df2 = pd.DataFrame()\n",
    "df2[\"id\"] = [i for i in range(1, 300_001)]"
   ]
  },
  {
   "cell_type": "code",
   "execution_count": 72,
   "id": "a06fd204",
   "metadata": {},
   "outputs": [],
   "source": [
    "for model_filename in top10_models[\"model_filename\"]:\n",
    "    df2[model_filename] = load_and_eval_model(model_filename, test)"
   ]
  },
  {
   "cell_type": "code",
   "execution_count": 81,
   "id": "dd5733c5",
   "metadata": {},
   "outputs": [],
   "source": [
    "from collections import Counter"
   ]
  },
  {
   "cell_type": "code",
   "execution_count": 86,
   "id": "9754e05a",
   "metadata": {},
   "outputs": [],
   "source": [
    "df2[\"label\"] = [\n",
    "    Counter(df2.iloc[i,1:]).most_common()[0][0]\n",
    "    for i in range(300_000)\n",
    "]"
   ]
  },
  {
   "cell_type": "code",
   "execution_count": 96,
   "id": "0eee5463",
   "metadata": {},
   "outputs": [],
   "source": [
    "df2[\"label\"] = [rev_name_dictionary[result] for result in df2[\"label\"]]"
   ]
  },
  {
   "cell_type": "code",
   "execution_count": 97,
   "id": "1adc6152",
   "metadata": {},
   "outputs": [],
   "source": [
    "df2[[\"id\", \"label\"]].to_csv(\"submission2.csv\", index=False)"
   ]
  },
  {
   "cell_type": "code",
   "execution_count": 98,
   "id": "924daadd",
   "metadata": {},
   "outputs": [],
   "source": [
    "train = load_cifar10_test_dataloader_kaggle(\".data-cifar/train\", bs=1000)"
   ]
  },
  {
   "cell_type": "code",
   "execution_count": 99,
   "id": "32486303",
   "metadata": {},
   "outputs": [],
   "source": [
    "df_perclass = pd.DataFrame()"
   ]
  },
  {
   "cell_type": "code",
   "execution_count": 100,
   "id": "3f1fff04",
   "metadata": {},
   "outputs": [],
   "source": [
    "for model_filename in top10_models[\"model_filename\"]:\n",
    "    df_perclass[model_filename] = load_and_eval_model(model_filename, train)"
   ]
  },
  {
   "cell_type": "code",
   "execution_count": 103,
   "id": "47d650ce",
   "metadata": {},
   "outputs": [],
   "source": [
    "df_perclass[\"label\"] = [\n",
    "    Counter(df_perclass.iloc[i,1:]).most_common()[0][0]\n",
    "    for i in range(50_000)\n",
    "]"
   ]
  },
  {
   "cell_type": "code",
   "execution_count": 105,
   "id": "365548f2",
   "metadata": {},
   "outputs": [],
   "source": [
    "ds = Cifar10Dataset(\".data-cifar/train\", \".data-cifar/trainLabels.csv\")"
   ]
  },
  {
   "cell_type": "code",
   "execution_count": 111,
   "id": "54c6c7b2",
   "metadata": {},
   "outputs": [],
   "source": [
    "df_perclass.to_csv(\"perclass.csv\")"
   ]
  },
  {
   "cell_type": "code",
   "execution_count": 118,
   "id": "30c4e5ea",
   "metadata": {},
   "outputs": [],
   "source": [
    "from sklearn.metrics import confusion_matrix, ConfusionMatrixDisplay"
   ]
  },
  {
   "cell_type": "code",
   "execution_count": 117,
   "id": "7d5067eb",
   "metadata": {},
   "outputs": [
    {
     "data": {
      "text/plain": [
       "array([[5000,    0,    0,    0,    0,    1,    0,    0,    0,    0],\n",
       "       [   0, 4998,    0,    0,    0,    0,    0,    0,    1,    2],\n",
       "       [   0,    0, 4999,    1,    0,    0,    1,    0,    0,    0],\n",
       "       [   0,    0,    0, 4995,    0,    7,    2,    0,    0,    0],\n",
       "       [   0,    0,    0,    1, 4999,    1,    0,    0,    0,    0],\n",
       "       [   0,    0,    1,    3,    0, 4988,    1,    0,    0,    0],\n",
       "       [   0,    1,    0,    0,    0,    1, 4996,    0,    0,    0],\n",
       "       [   0,    0,    0,    0,    1,    2,    0, 5000,    0,    1],\n",
       "       [   0,    1,    0,    0,    0,    0,    0,    0, 4998,    0],\n",
       "       [   0,    0,    0,    0,    0,    0,    0,    0,    1, 4997]])"
      ]
     },
     "execution_count": 117,
     "metadata": {},
     "output_type": "execute_result"
    }
   ],
   "source": [
    "confusion_matrix(df_perclass[\"label\"], [x[1] for x in ds.labels])"
   ]
  },
  {
   "cell_type": "code",
   "execution_count": 125,
   "id": "bc6c69e5",
   "metadata": {},
   "outputs": [
    {
     "data": {
      "image/png": "[encoded data removed]",
      "text/plain": [
       "<Figure size 640x480 with 2 Axes>"
      ]
     },
     "metadata": {},
     "output_type": "display_data"
    }
   ],
   "source": [
    "ConfusionMatrixDisplay.from_predictions(\n",
    "    y_pred=df_perclass[\"label\"],\n",
    "    y_true=[x[1] for x in ds.labels],\n",
    "    display_labels=[k for k in name_dict.keys()],\n",
    "    xticks_rotation=\"vertical\"\n",
    ")\n",
    "import matplotlib.pyplot as plt\n",
    "plt.title(\"Confusion matrix for top 10-model ensemble\")\n",
    "plt.show()"
   ]
  },
  {
   "cell_type": "code",
   "execution_count": null,
   "id": "ac355635",
   "metadata": {},
   "outputs": [],
   "source": []
  }
 ],
 "metadata": {
  "kernelspec": {
   "display_name": "Python 3 (ipykernel)",
   "language": "python",
   "name": "python3"
  },
  "language_info": {
   "codemirror_mode": {
    "name": "ipython",
    "version": 3
   },
   "file_extension": ".py",
   "mimetype": "text/x-python",
   "name": "python",
   "nbconvert_exporter": "python",
   "pygments_lexer": "ipython3",
   "version": "3.10.9"
  }
 },
 "nbformat": 4,
 "nbformat_minor": 5
}
