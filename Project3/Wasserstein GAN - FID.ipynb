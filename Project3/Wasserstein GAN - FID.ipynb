{
 "cells": [
  {
   "cell_type": "code",
   "execution_count": 1,
   "id": "89f28277",
   "metadata": {},
   "outputs": [
    {
     "name": "stdout",
     "output_type": "stream",
     "text": [
      "/home/kacper\n"
     ]
    }
   ],
   "source": [
    "# code adapted from https://github.com/eriklindernoren/PyTorch-GAN\n",
    "%cd"
   ]
  },
  {
   "cell_type": "code",
   "execution_count": 4,
   "id": "9bfa8136",
   "metadata": {},
   "outputs": [],
   "source": [
    "from torch import nn\n",
    "import torch\n",
    "from torch.autograd import Variable\n",
    "import torch.nn.functional as F\n",
    "import numpy as np\n",
    "from torchvision.utils import save_image\n",
    "\n",
    "cuda = True if torch.cuda.is_available() else False\n",
    "\n",
    "class Options:\n",
    "    def __init__(self):\n",
    "        self.n_epochs = 200\n",
    "        self.batch_size = 64\n",
    "        self.lr = 0.0002\n",
    "        self.b1 = 0.5\n",
    "        self.b2 = 0.999\n",
    "        self.n_cpu = 8\n",
    "        self.latent_dim = 100\n",
    "        self.img_size = 64\n",
    "        self.channels = 3\n",
    "        self.n_critic = 5\n",
    "        self.clip_value = 0.01\n",
    "        self.sample_interval = 400\n",
    "\n",
    "opt = Options()\n",
    "img_shape = (opt.channels, opt.img_size, opt.img_size)"
   ]
  },
  {
   "cell_type": "code",
   "execution_count": 5,
   "id": "43613122",
   "metadata": {},
   "outputs": [],
   "source": [
    "class Generator(nn.Module):\n",
    "    def __init__(self):\n",
    "        super(Generator, self).__init__()\n",
    "\n",
    "        def block(in_feat, out_feat, normalize=True):\n",
    "            layers = [nn.Linear(in_feat, out_feat)]\n",
    "            if normalize:\n",
    "                layers.append(nn.BatchNorm1d(out_feat, 0.8))\n",
    "            layers.append(nn.LeakyReLU(0.2, inplace=True))\n",
    "            return layers\n",
    "\n",
    "        self.model = nn.Sequential(\n",
    "            *block(opt.latent_dim, 128, normalize=False),\n",
    "            *block(128, 256),\n",
    "            *block(256, 512),\n",
    "            *block(512, 1024),\n",
    "            nn.Linear(1024, int(np.prod(img_shape))),\n",
    "            nn.Tanh()\n",
    "        )\n",
    "\n",
    "    def forward(self, z):\n",
    "        img = self.model(z)\n",
    "        img = img.view(img.shape[0], *img_shape)\n",
    "        return img\n",
    "\n",
    "\n",
    "class Discriminator(nn.Module):\n",
    "    def __init__(self):\n",
    "        super(Discriminator, self).__init__()\n",
    "\n",
    "        self.model = nn.Sequential(\n",
    "            nn.Linear(int(np.prod(img_shape)), 512),\n",
    "            nn.LeakyReLU(0.2, inplace=True),\n",
    "            nn.Linear(512, 256),\n",
    "            nn.LeakyReLU(0.2, inplace=True),\n",
    "            nn.Linear(256, 1),\n",
    "        )\n",
    "\n",
    "    def forward(self, img):\n",
    "        img_flat = img.view(img.shape[0], -1)\n",
    "        validity = self.model(img_flat)\n",
    "        return validity"
   ]
  },
  {
   "cell_type": "code",
   "execution_count": 5,
   "id": "74492248",
   "metadata": {},
   "outputs": [],
   "source": [
    "model = torch.load(\"experiments_gan/wgan_generator_epoch_103.pt\")\n",
    "from DeepLearning.Project3.frechet_metric import generate_images_to_path\n",
    "for i in range(10):\n",
    "    for j in range(10):\n",
    "        generate_images_to_path(\n",
    "            model,\n",
    "            path = f\"images/wgan/fid/{i}/{j}/\",\n",
    "            batch_size = 200,\n",
    "            latent_size = 100,\n",
    "            img_size = 64\n",
    "        )"
   ]
  },
  {
   "cell_type": "code",
   "execution_count": 2,
   "id": "395c7843",
   "metadata": {},
   "outputs": [],
   "source": [
    "model_paths = [\n",
    "    (f\"experiments_gan/{model_type}_generator_epoch_{epoch}.pt\", model_type, epoch, lr)\n",
    "    for model_type, lr in zip(\n",
    "        [\"wgan\", \"wgan2\", \"wgan3\", \"wgan4\"],\n",
    "        [0.0002, 0.00005, 0.0001, 0.000025]\n",
    "    )\n",
    "    for epoch in [0, 9, 19, 29, 39, 49]    \n",
    "]"
   ]
  },
  {
   "cell_type": "code",
   "execution_count": null,
   "id": "89fb40ca",
   "metadata": {},
   "outputs": [],
   "source": [
    "from DeepLearning.Project3.frechet_metric import generate_images_to_path\n",
    "\n",
    "for model_path, model_type, epoch, lr in model_paths: \n",
    "    for i in range(10):\n",
    "        for j in range(10):\n",
    "            generate_images_to_path(\n",
    "                model = torch.load(model_path),\n",
    "                path = f\"images/wgan_exp/{model_type}/{epoch}/fid/{i}/{j}/\",\n",
    "                batch_size = 200,\n",
    "                latent_size = 100,\n",
    "                img_size = 64\n",
    "            )"
   ]
  },
  {
   "cell_type": "code",
   "execution_count": 3,
   "id": "4e14519f",
   "metadata": {},
   "outputs": [],
   "source": [
    "from DeepLearning.Project3.frechet_metric import fid_metric\n",
    "\n",
    "images_paths = [\n",
    "    (f\"images/wgan_exp/{model_type}/{epoch}/fid/\", model_type, epoch, lr)\n",
    "    for _, model_type, epoch, lr in model_paths\n",
    "]"
   ]
  },
  {
   "cell_type": "code",
   "execution_count": null,
   "id": "d9d70371",
   "metadata": {},
   "outputs": [
    {
     "name": "stderr",
     "output_type": "stream",
     "text": [
      "100%|█████████████████████████████████████████████████████████████████████████████████████████████████████████████████████████████████████████████████████| 310/310 [01:03<00:00,  4.91it/s]\n",
      "100%|█████████████████████████████████████████████████████████████████████████████████████████████████████████████████████████████████████████████████████| 313/313 [00:49<00:00,  6.38it/s]\n",
      "100%|█████████████████████████████████████████████████████████████████████████████████████████████████████████████████████████████████████████████████████| 310/310 [00:54<00:00,  5.66it/s]\n",
      "100%|█████████████████████████████████████████████████████████████████████████████████████████████████████████████████████████████████████████████████████| 313/313 [00:49<00:00,  6.36it/s]\n",
      "100%|█████████████████████████████████████████████████████████████████████████████████████████████████████████████████████████████████████████████████████| 310/310 [00:53<00:00,  5.84it/s]\n",
      " 81%|████████████████████████████████████████████████████████████████████████████████████████████████████████████████████████▉                            | 254/313 [00:40<00:09,  6.34it/s]"
     ]
    }
   ],
   "source": [
    "results = []\n",
    "for images_path, model_type, epoch, lr in images_paths:\n",
    "    fid = fid_metric('.data/data0/lsun/bedroom/0', images_path)\n",
    "    results.append({\n",
    "        \"model_type\": model_type,\n",
    "        \"epoch\": epoch,\n",
    "        \"lr\": lr,\n",
    "        \"fid\": fid\n",
    "    })"
   ]
  },
  {
   "cell_type": "code",
   "execution_count": null,
   "id": "da9c0a41",
   "metadata": {},
   "outputs": [],
   "source": [
    "import json\n",
    "with open(\"wgan_experiment.json\", \"w\") as f:\n",
    "    json.dump(results, f)"
   ]
  }
 ],
 "metadata": {
  "kernelspec": {
   "display_name": "Python 3 (ipykernel)",
   "language": "python",
   "name": "python3"
  },
  "language_info": {
   "codemirror_mode": {
    "name": "ipython",
    "version": 3
   },
   "file_extension": ".py",
   "mimetype": "text/x-python",
   "name": "python",
   "nbconvert_exporter": "python",
   "pygments_lexer": "ipython3",
   "version": "3.10.9"
  }
 },
 "nbformat": 4,
 "nbformat_minor": 5
}
