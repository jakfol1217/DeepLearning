{
 "cells": [
  {
   "cell_type": "code",
   "execution_count": 1,
   "id": "cf76670a",
   "metadata": {},
   "outputs": [],
   "source": [
    "import torch\n",
    "from torch import nn"
   ]
  },
  {
   "cell_type": "code",
   "execution_count": 2,
   "id": "a99505e3",
   "metadata": {},
   "outputs": [
    {
     "name": "stdout",
     "output_type": "stream",
     "text": [
      "/home/kacper\n"
     ]
    }
   ],
   "source": [
    "%cd"
   ]
  },
  {
   "cell_type": "code",
   "execution_count": 3,
   "id": "883cc5e2",
   "metadata": {},
   "outputs": [],
   "source": [
    "from DeepLearning.Project3.frechet_metric import fid_metric"
   ]
  },
  {
   "cell_type": "code",
   "execution_count": 6,
   "id": "08e2816a",
   "metadata": {},
   "outputs": [
    {
     "name": "stderr",
     "output_type": "stream",
     "text": [
      "100%|█████████████████████████████████████████████████████████████████████████████████████████████████████████████████████████████████████████████████████| 310/310 [01:00<00:00,  5.10it/s]\n",
      "100%|█████████████████████████████████████████████████████████████████████████████████████████████████████████████████████████████████████████████████████| 310/310 [00:52<00:00,  5.87it/s]\n"
     ]
    },
    {
     "data": {
      "text/plain": [
       "3.584805976338944e-08"
      ]
     },
     "execution_count": 6,
     "metadata": {},
     "output_type": "execute_result"
    }
   ],
   "source": [
    "fid_metric('.data/data0/lsun/bedroom/0', '.data/data0/lsun/bedroom/0') # baseline, 1/16 sample"
   ]
  },
  {
   "cell_type": "code",
   "execution_count": 7,
   "id": "f13e677b",
   "metadata": {},
   "outputs": [
    {
     "name": "stderr",
     "output_type": "stream",
     "text": [
      "100%|█████████████████████████████████████████████████████████████████████████████████████████████████████████████████████████████████████████████████████| 310/310 [00:52<00:00,  5.87it/s]\n",
      "100%|█████████████████████████████████████████████████████████████████████████████████████████████████████████████████████████████████████████████████████| 307/307 [01:01<00:00,  4.97it/s]\n"
     ]
    },
    {
     "data": {
      "text/plain": [
       "1.6995647300037873"
      ]
     },
     "execution_count": 7,
     "metadata": {},
     "output_type": "execute_result"
    }
   ],
   "source": [
    "fid_metric('.data/data0/lsun/bedroom/0', '.data/data0/lsun/bedroom/1') # baseline, different data, but still all real, 1/16 sample"
   ]
  },
  {
   "cell_type": "code",
   "execution_count": 9,
   "id": "894cd639",
   "metadata": {},
   "outputs": [
    {
     "name": "stderr",
     "output_type": "stream",
     "text": [
      "100%|█████████████████████████████████████████████████████████████████████████████████████████████████████████████████████████████████████████████████████| 310/310 [00:58<00:00,  5.28it/s]\n",
      "100%|█████████████████████████████████████████████████████████████████████████████████████████████████████████████████████████████████████████████████████| 313/313 [00:41<00:00,  7.58it/s]\n"
     ]
    },
    {
     "data": {
      "text/plain": [
       "404.0000334998951"
      ]
     },
     "execution_count": 9,
     "metadata": {},
     "output_type": "execute_result"
    }
   ],
   "source": [
    "fid_metric('.data/data0/lsun/bedroom/0', 'images/simpleconvgan/fid') # simpleconvgan"
   ]
  },
  {
   "cell_type": "code",
   "execution_count": 10,
   "id": "6ec7fbfc",
   "metadata": {},
   "outputs": [
    {
     "name": "stderr",
     "output_type": "stream",
     "text": [
      "100%|█████████████████████████████████████████████████████████████████████████████████████████████████████████████████████████████████████████████████████| 310/310 [00:54<00:00,  5.66it/s]\n",
      "100%|█████████████████████████████████████████████████████████████████████████████████████████████████████████████████████████████████████████████████████| 313/313 [00:42<00:00,  7.35it/s]\n"
     ]
    },
    {
     "data": {
      "text/plain": [
       "68.05557548391668"
      ]
     },
     "execution_count": 10,
     "metadata": {},
     "output_type": "execute_result"
    }
   ],
   "source": [
    "fid_metric('.data/data0/lsun/bedroom/0', 'images/cdgan/fid') # cdgan"
   ]
  },
  {
   "cell_type": "code",
   "execution_count": 11,
   "id": "8602cb0d",
   "metadata": {},
   "outputs": [
    {
     "name": "stderr",
     "output_type": "stream",
     "text": [
      "100%|█████████████████████████████████████████████████████████████████████████████████████████████████████████████████████████████████████████████████████| 310/310 [00:53<00:00,  5.81it/s]\n",
      "100%|█████████████████████████████████████████████████████████████████████████████████████████████████████████████████████████████████████████████████████| 313/313 [00:42<00:00,  7.45it/s]\n"
     ]
    },
    {
     "data": {
      "text/plain": [
       "302.74167891989885"
      ]
     },
     "execution_count": 11,
     "metadata": {},
     "output_type": "execute_result"
    }
   ],
   "source": [
    "fid_metric('.data/data0/lsun/bedroom/0', 'images/wgan/fid') # wgan"
   ]
  },
  {
   "cell_type": "code",
   "execution_count": null,
   "id": "c365e270",
   "metadata": {},
   "outputs": [],
   "source": []
  }
 ],
 "metadata": {
  "kernelspec": {
   "display_name": "Python 3 (ipykernel)",
   "language": "python",
   "name": "python3"
  },
  "language_info": {
   "codemirror_mode": {
    "name": "ipython",
    "version": 3
   },
   "file_extension": ".py",
   "mimetype": "text/x-python",
   "name": "python",
   "nbconvert_exporter": "python",
   "pygments_lexer": "ipython3",
   "version": "3.10.9"
  }
 },
 "nbformat": 4,
 "nbformat_minor": 5
}
