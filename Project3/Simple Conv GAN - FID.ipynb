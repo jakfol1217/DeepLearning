{
 "cells": [
  {
   "cell_type": "code",
   "execution_count": 1,
   "id": "8ef4ff7a",
   "metadata": {},
   "outputs": [],
   "source": [
    "import data\n",
    "import torch\n",
    "import torch.nn as nn"
   ]
  },
  {
   "cell_type": "code",
   "execution_count": 2,
   "id": "c9dec210",
   "metadata": {},
   "outputs": [
    {
     "name": "stdout",
     "output_type": "stream",
     "text": [
      "/home/kacper\n"
     ]
    }
   ],
   "source": [
    "%cd"
   ]
  },
  {
   "cell_type": "code",
   "execution_count": 3,
   "id": "35e9d5f3",
   "metadata": {},
   "outputs": [],
   "source": [
    "class Generator(nn.Module):\n",
    "    def __init__(self, latent_size, image_size=64):\n",
    "        super(Generator, self).__init__()\n",
    "        self.latent_size = latent_size\n",
    "        \n",
    "        self.mlp = nn.Sequential(\n",
    "            nn.Linear(latent_size, latent_size, bias=False),\n",
    "            nn.ReLU(),\n",
    "            nn.Linear(latent_size, latent_size, bias=False),\n",
    "            nn.ReLU(),\n",
    "        )\n",
    "                \n",
    "        self.conv = nn.Sequential(\n",
    "            nn.ConvTranspose2d(\n",
    "                in_channels=latent_size, \n",
    "                out_channels=latent_size//2, \n",
    "                kernel_size=4, \n",
    "                stride=4, \n",
    "                padding=0, \n",
    "                bias=False),\n",
    "            nn.ReLU(True),\n",
    "            nn.ConvTranspose2d(\n",
    "                in_channels=latent_size//2, \n",
    "                out_channels=latent_size//4, \n",
    "                kernel_size=4, \n",
    "                stride=4, \n",
    "                padding=0, \n",
    "                bias=False),\n",
    "            nn.ReLU(True),\n",
    "            nn.ConvTranspose2d(\n",
    "                in_channels=latent_size//4, \n",
    "                out_channels=3, \n",
    "                kernel_size=4, \n",
    "                stride=4, \n",
    "                padding=0, \n",
    "                bias=False),\n",
    "            nn.Tanh()\n",
    "        )\n",
    "\n",
    "    def forward(self, x):\n",
    "        x = self.mlp(x)\n",
    "        x = x.reshape((-1, self.latent_size, 1, 1))\n",
    "        x = self.conv(x)\n",
    "        return x\n",
    "    \n",
    "class Discriminator(nn.Module):\n",
    "    def __init__(self, latent_size, image_size=64):\n",
    "        super(Discriminator, self).__init__()\n",
    "        self.latent_size = latent_size\n",
    "        \n",
    "        self.mlp = nn.Sequential(\n",
    "            nn.Linear(latent_size, latent_size, bias=False),\n",
    "            nn.ReLU(),\n",
    "            nn.Linear(latent_size, 1, bias=False),\n",
    "            nn.Sigmoid(),\n",
    "        )\n",
    "                \n",
    "        self.conv = nn.Sequential(\n",
    "            nn.Conv2d(\n",
    "                in_channels=3, \n",
    "                out_channels=latent_size//4, \n",
    "                kernel_size=4, \n",
    "                stride=4, \n",
    "                padding=0, \n",
    "                bias=False),      \n",
    "            nn.ReLU(True),\n",
    "            nn.Conv2d(\n",
    "                in_channels=latent_size//4, \n",
    "                out_channels=latent_size//2, \n",
    "                kernel_size=4, \n",
    "                stride=4, \n",
    "                padding=0, \n",
    "                bias=False),\n",
    "            nn.ReLU(True),\n",
    "            nn.Conv2d(\n",
    "                in_channels=latent_size//2, \n",
    "                out_channels=latent_size, \n",
    "                kernel_size=4, \n",
    "                stride=4, \n",
    "                padding=0, \n",
    "                bias=False),\n",
    "            nn.ReLU(True),\n",
    "        )\n",
    "\n",
    "    def forward(self, x):\n",
    "        x = self.conv(x)\n",
    "        x = x.reshape(-1, self.latent_size)\n",
    "        x = self.mlp(x)        \n",
    "        return x.reshape(-1)"
   ]
  },
  {
   "cell_type": "code",
   "execution_count": 4,
   "id": "eb3d7c62",
   "metadata": {},
   "outputs": [],
   "source": [
    "model = torch.load(\"experiments_gan/simpleconvgan_2_generator.pt\")"
   ]
  },
  {
   "cell_type": "code",
   "execution_count": 5,
   "id": "fc1a35e9",
   "metadata": {},
   "outputs": [],
   "source": [
    "from DeepLearning.Project3.frechet_metric import generate_images_to_path"
   ]
  },
  {
   "cell_type": "code",
   "execution_count": 8,
   "id": "ec1f1eec",
   "metadata": {},
   "outputs": [],
   "source": [
    "generate_images_to_path(\n",
    "    model,\n",
    "    path = \"images/simpleconvgan/fid/0/\",\n",
    "    batch_size = 20_000,\n",
    "    latent_size = 128,\n",
    "    img_size = 64\n",
    ")"
   ]
  },
  {
   "cell_type": "code",
   "execution_count": null,
   "id": "9629d97c",
   "metadata": {},
   "outputs": [],
   "source": []
  }
 ],
 "metadata": {
  "kernelspec": {
   "display_name": "Python 3 (ipykernel)",
   "language": "python",
   "name": "python3"
  },
  "language_info": {
   "codemirror_mode": {
    "name": "ipython",
    "version": 3
   },
   "file_extension": ".py",
   "mimetype": "text/x-python",
   "name": "python",
   "nbconvert_exporter": "python",
   "pygments_lexer": "ipython3",
   "version": "3.10.9"
  }
 },
 "nbformat": 4,
 "nbformat_minor": 5
}
