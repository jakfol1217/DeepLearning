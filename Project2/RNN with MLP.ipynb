{
 "cells": [
  {
   "cell_type": "code",
   "execution_count": 2,
   "id": "6219214f",
   "metadata": {},
   "outputs": [],
   "source": [
    "import torch\n",
    "import torchvision\n",
    "import torch.nn as nn\n",
    "import time\n",
    "import json\n",
    "import datetime"
   ]
  },
  {
   "cell_type": "code",
   "execution_count": 4,
   "id": "f0d4ae5a",
   "metadata": {},
   "outputs": [
    {
     "name": "stdout",
     "output_type": "stream",
     "text": [
      "/home/kacper\n"
     ]
    }
   ],
   "source": [
    "%cd"
   ]
  },
  {
   "cell_type": "code",
   "execution_count": 5,
   "id": "7869ed72",
   "metadata": {},
   "outputs": [],
   "source": [
    "from DeepLearning.Project2.data_loading_preparation import load_audio_dataloaders_validation\n",
    "train, test, val = load_audio_dataloaders_validation(bs=128, limit_11=0.0)"
   ]
  },
  {
   "cell_type": "code",
   "execution_count": null,
   "id": "41211ba7",
   "metadata": {},
   "outputs": [],
   "source": [
    "class Recurrent(nn.Module):\n",
    "    def __init__(self, features, num_classes=10, avgpool_size=(1,1), add_dropout=True):\n",
    "        super(Recurrent, self).__init__()\n",
    "        self.features = features\n",
    "\n",
    "        if add_dropout:\n",
    "            self.classifier = nn.Sequential(\n",
    "                nn.Linear(512 * avgpool_size[0] * avgpool_size[1], 4096),\n",
    "                nn.ReLU(True),\n",
    "                nn.Dropout(),\n",
    "                nn.Linear(512, 4096),\n",
    "                nn.ReLU(True),\n",
    "                nn.Dropout(),\n",
    "                nn.Linear(4096, num_classes),\n",
    "            )\n",
    "        else:\n",
    "            self.classifier = nn.Sequential(\n",
    "                nn.Linear(512 * avgpool_size[0] * avgpool_size[1], 4096),\n",
    "                nn.ReLU(True),\n",
    "                nn.Linear(4096, 4096),\n",
    "                nn.ReLU(True),\n",
    "                nn.Linear(4096, num_classes),\n",
    "            )\n",
    "\n",
    "    def forward(self, x):\n",
    "        x = self.features(x)\n",
    "        x = self.avgpool(x)\n",
    "        x = torch.flatten(x, 1)\n",
    "        x = self.classifier(x)\n",
    "        return x"
   ]
  }
 ],
 "metadata": {
  "kernelspec": {
   "display_name": "Python 3 (ipykernel)",
   "language": "python",
   "name": "python3"
  },
  "language_info": {
   "codemirror_mode": {
    "name": "ipython",
    "version": 3
   },
   "file_extension": ".py",
   "mimetype": "text/x-python",
   "name": "python",
   "nbconvert_exporter": "python",
   "pygments_lexer": "ipython3",
   "version": "3.10.9"
  }
 },
 "nbformat": 4,
 "nbformat_minor": 5
}
